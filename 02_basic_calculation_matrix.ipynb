{
  "nbformat": 4,
  "nbformat_minor": 0,
  "metadata": {
    "colab": {
      "provenance": [],
      "authorship_tag": "ABX9TyP7RrtzYy/nBtcsg8BBVAid",
      "include_colab_link": true
    },
    "kernelspec": {
      "name": "python3",
      "display_name": "Python 3"
    },
    "language_info": {
      "name": "python"
    }
  },
  "cells": [
    {
      "cell_type": "markdown",
      "metadata": {
        "id": "view-in-github",
        "colab_type": "text"
      },
      "source": [
        "<a href=\"https://colab.research.google.com/github/woneze/linear_algebra/blob/main/02_basic_calculation_matrix.ipynb\" target=\"_parent\"><img src=\"https://colab.research.google.com/assets/colab-badge.svg\" alt=\"Open In Colab\"/></a>"
      ]
    },
    {
      "cell_type": "code",
      "execution_count": null,
      "metadata": {
        "id": "_uSVS2f6YF21"
      },
      "outputs": [],
      "source": [
        "def add(A, B):\n",
        "  \"\"\"\n",
        "  행렬의 덧셈\n",
        "  입력값 : 행렬의 덧셈을 수행할 행렬 A, B\n",
        "  출력값 : 행렬 A와 행렬 B의 덧셈 결과인 행렬 C\n",
        "  \"\"\"\n",
        "\n",
        "  n = len(A)\n",
        "  p = len(A[0])\n",
        "\n",
        "  res = []\n",
        "  for i in range(0, n):\n",
        "    row = []\n",
        "    for j in range(0, p):\n",
        "      val = A[i][j] + B[i][j]\n",
        "      row.append(val)\n",
        "    res.append(row)\n",
        "  return res\n",
        "\n",
        "\n",
        "def subtract(A, B):\n",
        "  \"\"\"\n",
        "  행렬의 뺄셈\n",
        "  입력값 : 행렬의 뺄셈을 수행할 행렬 A, B\n",
        "  출력값 : 행렬 A와 행렬 B의 뺄셈 결과인 행렬 C\n",
        "  \"\"\"\n",
        "\n",
        "  n = len(A)\n",
        "  p = len(A[0])\n",
        "\n",
        "  res = []\n",
        "  for i in range(0, n):\n",
        "    row = []\n",
        "    for j in range(0, p):\n",
        "      val = A[i][j] - B[i][j]\n",
        "      row.append(val)\n",
        "    res.append(row)\n",
        "  return res\n",
        "\n",
        "\n",
        "def scalar_mul(b, A):\n",
        "  \"\"\"\n",
        "  행렬의 스칼라 곱\n",
        "  입력값 : 스칼라 곱을 수행할 스칼라 b, 행렬 A\n",
        "  출력값 : 스칼라 b와 행렬 A의 스칼라 곱 결과인 행렬 C\n",
        "  \"\"\"\n",
        "\n",
        "  n = len(A)\n",
        "  p = len(A[0])\n",
        "\n",
        "  res = []\n",
        "  for i in range(0, n):\n",
        "    row = []\n",
        "    for j in range(0, p):\n",
        "      val = b * A[i][j]\n",
        "      row.append(val)\n",
        "    res.append(row)\n",
        "  return res\n",
        "\n",
        "\n",
        "def ele_product(A, B):\n",
        "  \"\"\"\n",
        "  행렬의 원소 곱\n",
        "  입력값 : 행렬의 원소 곱을 수행할 행렬 A, B\n",
        "  출력값 : 행렬 A와 행렬 B의 원소 곱 결과인 행렬 C\n",
        "  \"\"\"\n",
        "\n",
        "  n = len(A)\n",
        "  p = len(A[0])\n",
        "\n",
        "  res = []\n",
        "  for i in range(0, n):\n",
        "    row = []\n",
        "    for j in range(0, p):\n",
        "      val = A[i][j] * B[i][j]\n",
        "      row.append(val)\n",
        "    res.append(row)\n",
        "  return res\n",
        "\n",
        "\n",
        "def matmul(A, B):\n",
        "  \"\"\"\n",
        "  행렬의 행렬 곱\n",
        "  입력값 : 행렬 곱을 수행할 행렬 A, B\n",
        "  출력값 : 행렬 A와 행렬 B의 곱 결과인 행렬 res\n",
        "  \"\"\"\n",
        "\n",
        "  n = len(A)\n",
        "  p1 = len(A[0])\n",
        "  p2 = len(B[0])\n",
        "\n",
        "  res = []\n",
        "  for i in range(0, n):\n",
        "    row = []\n",
        "    for j in range(0, p2):\n",
        "      val = 0\n",
        "      for k in range(0, p1):\n",
        "        val += A[i][k] * B[k][j]\n",
        "      row.append(val)\n",
        "    res.append(row)\n",
        "  return res"
      ]
    },
    {
      "cell_type": "code",
      "source": [
        "A = [[2, 7], [3, 4], [6, 1]]\n",
        "B = [[1, 4], [4, -1], [2, 5]]\n",
        "add(A, B)"
      ],
      "metadata": {
        "colab": {
          "base_uri": "https://localhost:8080/"
        },
        "id": "DN4b6YRkrSWu",
        "outputId": "e2068f83-743b-417d-d5a8-784635cf7b4b"
      },
      "execution_count": null,
      "outputs": [
        {
          "output_type": "execute_result",
          "data": {
            "text/plain": [
              "[[3, 11], [7, 3], [8, 6]]"
            ]
          },
          "metadata": {},
          "execution_count": 9
        }
      ]
    },
    {
      "cell_type": "code",
      "source": [
        "A = [[2, 7], [3, 4], [6, 1]]\n",
        "B = [[1, 4], [4, -1], [2, 5]]\n",
        "subtract(A, B)"
      ],
      "metadata": {
        "colab": {
          "base_uri": "https://localhost:8080/"
        },
        "id": "CsjsNoNPrd-0",
        "outputId": "6c516562-bbff-4bd6-bbf7-66bb370f8bba"
      },
      "execution_count": null,
      "outputs": [
        {
          "output_type": "execute_result",
          "data": {
            "text/plain": [
              "[[1, 3], [-1, 5], [4, -4]]"
            ]
          },
          "metadata": {},
          "execution_count": 10
        }
      ]
    },
    {
      "cell_type": "code",
      "source": [
        "A = [[2, 7], [3, 4], [6, 1]]\n",
        "b = 2\n",
        "scalar_mul(b, A)"
      ],
      "metadata": {
        "colab": {
          "base_uri": "https://localhost:8080/"
        },
        "id": "iKqnfcndr9jl",
        "outputId": "d82a966e-ef28-4155-b6a4-ab3faefbe8f4"
      },
      "execution_count": null,
      "outputs": [
        {
          "output_type": "execute_result",
          "data": {
            "text/plain": [
              "[[4, 14], [6, 8], [12, 2]]"
            ]
          },
          "metadata": {},
          "execution_count": 11
        }
      ]
    },
    {
      "cell_type": "code",
      "source": [
        "A = [[1, 5], [6, 4], [2, 7]]\n",
        "B = [[5, -1], [1, 2], [4, 1]]\n",
        "ele_product(A, B)"
      ],
      "metadata": {
        "colab": {
          "base_uri": "https://localhost:8080/"
        },
        "id": "Eh2BEGm7slvT",
        "outputId": "cfc1094a-fc58-4135-d44f-8e7ab41b1b69"
      },
      "execution_count": null,
      "outputs": [
        {
          "output_type": "execute_result",
          "data": {
            "text/plain": [
              "[[5, -5], [6, 8], [8, 7]]"
            ]
          },
          "metadata": {},
          "execution_count": 12
        }
      ]
    },
    {
      "cell_type": "code",
      "source": [
        "A = [[2, 7], [3, 4], [5, 2]]\n",
        "B = [[3, -3, 5], [-1, 2, -1]]\n",
        "matmul(A, B)"
      ],
      "metadata": {
        "colab": {
          "base_uri": "https://localhost:8080/"
        },
        "id": "UQBHLuBotICq",
        "outputId": "602ee9a7-fbc7-4b08-87b7-dfa579ada499"
      },
      "execution_count": null,
      "outputs": [
        {
          "output_type": "execute_result",
          "data": {
            "text/plain": [
              "[[-1, 8, 3], [5, -1, 11], [13, -11, 23]]"
            ]
          },
          "metadata": {},
          "execution_count": 14
        }
      ]
    },
    {
      "cell_type": "code",
      "source": [
        "import numpy as np"
      ],
      "metadata": {
        "id": "h7jl_83lt81E"
      },
      "execution_count": null,
      "outputs": []
    },
    {
      "cell_type": "code",
      "source": [
        "A = np.array([[2, 7], [3, 4], [6, 1]])\n",
        "B = np.array([[1, 4], [4, -1], [2, 5]])\n",
        "C = A + B\n",
        "print(C)"
      ],
      "metadata": {
        "colab": {
          "base_uri": "https://localhost:8080/"
        },
        "id": "wm5y1rjQVwlM",
        "outputId": "60139d65-3ef5-4d8e-9c8d-115c8d8b5146"
      },
      "execution_count": null,
      "outputs": [
        {
          "output_type": "stream",
          "name": "stdout",
          "text": [
            "[[ 3 11]\n",
            " [ 7  3]\n",
            " [ 8  6]]\n"
          ]
        }
      ]
    },
    {
      "cell_type": "code",
      "source": [
        "A = np.array([[2, 7], [3, 4], [6, 1]])\n",
        "B = np.array([[1, 4], [4, -1], [2, 5]])\n",
        "C = A - B\n",
        "print(C)"
      ],
      "metadata": {
        "colab": {
          "base_uri": "https://localhost:8080/"
        },
        "id": "Sjc3ug_CV7Sg",
        "outputId": "25884e91-8929-448c-d74b-1b0135afd307"
      },
      "execution_count": null,
      "outputs": [
        {
          "output_type": "stream",
          "name": "stdout",
          "text": [
            "[[ 1  3]\n",
            " [-1  5]\n",
            " [ 4 -4]]\n"
          ]
        }
      ]
    },
    {
      "cell_type": "code",
      "source": [
        "A = np.array([[2, 7], [3, 4], [6, 1]])\n",
        "b = 2\n",
        "C = b * A\n",
        "print(C)"
      ],
      "metadata": {
        "colab": {
          "base_uri": "https://localhost:8080/"
        },
        "id": "z8Kt077VWAJc",
        "outputId": "aa9546d5-a980-4283-877d-5045fd25b43f"
      },
      "execution_count": null,
      "outputs": [
        {
          "output_type": "stream",
          "name": "stdout",
          "text": [
            "[[ 4 14]\n",
            " [ 6  8]\n",
            " [12  2]]\n"
          ]
        }
      ]
    },
    {
      "cell_type": "code",
      "source": [
        "A = np.array([[1, 5], [6, 4], [2, 7]])\n",
        "B = np.array([[5, -1], [1, 2], [4, 1]])\n",
        "C = np.multiply(A, B)\n",
        "print(C)"
      ],
      "metadata": {
        "colab": {
          "base_uri": "https://localhost:8080/"
        },
        "id": "lQci1Ic4WFKq",
        "outputId": "ad8025ce-63fd-4162-9e88-631d518af6b6"
      },
      "execution_count": null,
      "outputs": [
        {
          "output_type": "stream",
          "name": "stdout",
          "text": [
            "[[ 5 -5]\n",
            " [ 6  8]\n",
            " [ 8  7]]\n"
          ]
        }
      ]
    },
    {
      "cell_type": "code",
      "source": [
        "A = np.array([[2, 7], [3, 4], [5, 2]])\n",
        "B = np.array([[3, -3, 5], [-1, 2, -1]])\n",
        "C = np.matmul(A, B)\n",
        "print(C)"
      ],
      "metadata": {
        "colab": {
          "base_uri": "https://localhost:8080/"
        },
        "id": "CowdoHo1WSt4",
        "outputId": "2b215a37-9c28-4fa2-e2bb-ce86be1e4482"
      },
      "execution_count": null,
      "outputs": [
        {
          "output_type": "stream",
          "name": "stdout",
          "text": [
            "[[ -1   8   3]\n",
            " [  5  -1  11]\n",
            " [ 13 -11  23]]\n"
          ]
        }
      ]
    }
  ]
}